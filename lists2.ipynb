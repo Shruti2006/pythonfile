{
 "cells": [
  {
   "cell_type": "code",
   "execution_count": 1,
   "id": "011fdeca-884d-4729-9836-f4ddc0baa957",
   "metadata": {},
   "outputs": [
    {
     "name": "stdout",
     "output_type": "stream",
     "text": [
      "['apple', 'banana', 'cherry', 'orange', 'melon']\n"
     ]
    }
   ],
   "source": [
    "fruits=['apple','banana','cherry']\n",
    "fruits2=[\"orange\",\"melon\"]\n",
    "fruits.extend(fruits2)\n",
    "print(fruits)"
   ]
  },
  {
   "cell_type": "code",
   "execution_count": 4,
   "id": "a2a79b19-2bab-4d21-bf68-19cd63d21367",
   "metadata": {},
   "outputs": [
    {
     "name": "stdout",
     "output_type": "stream",
     "text": [
      "['apple', 'banana', 'cherry', 'watermelon', 'orange', 'melon', 'grapes']\n"
     ]
    }
   ],
   "source": [
    "myfruits=fruits.copy()\n",
    "print(myfruits)"
   ]
  },
  {
   "cell_type": "code",
   "execution_count": 2,
   "id": "b8591a28-130d-4abc-bb65-ccc6ee5339c5",
   "metadata": {},
   "outputs": [
    {
     "name": "stdout",
     "output_type": "stream",
     "text": [
      "['apple', 'banana', 'cherry', 'orange', 'melon', 'grapes']\n"
     ]
    }
   ],
   "source": [
    "fruits.append(\"grapes\")\n",
    "print(fruits)\n"
   ]
  },
  {
   "cell_type": "code",
   "execution_count": 8,
   "id": "98e15a2e-f8d5-48cc-9ceb-61f045d7e5b7",
   "metadata": {},
   "outputs": [
    {
     "name": "stdout",
     "output_type": "stream",
     "text": [
      "[20, 30, 40]\n",
      "[40, 50]\n",
      "[10, 20, 30]\n",
      "[20, 30, 40]\n",
      "[50, 40, 30, 20, 10]\n",
      "[10, 30, 50]\n",
      "[20, 40]\n"
     ]
    }
   ],
   "source": [
    "my=[10,20,30,40,50]\n",
    "print(my[1:4])\n",
    "print(my[3:])\n",
    "print(my[:3])\n",
    "print(my[-4:-1])\n",
    "print(my[::-1])\n",
    "print(my[::2])\n",
    "print(my[1::2])"
   ]
  },
  {
   "cell_type": "code",
   "execution_count": 19,
   "id": "68e545f7-3bfc-4d82-a7d3-a0343411f909",
   "metadata": {},
   "outputs": [
    {
     "name": "stdout",
     "output_type": "stream",
     "text": [
      "[10, 20, 30, 40, 20]\n"
     ]
    }
   ],
   "source": [
    "print(my)"
   ]
  },
  {
   "cell_type": "code",
   "execution_count": 23,
   "id": "3014725a-5795-4642-a5d9-a07828d2b728",
   "metadata": {},
   "outputs": [
    {
     "name": "stdout",
     "output_type": "stream",
     "text": [
      "[10, 20, 30, 40, 30]\n",
      "4\n"
     ]
    }
   ],
   "source": [
    "my=[10,20,30,40,30]\n",
    "print(my)\n",
    "print(my.index(30,3))"
   ]
  },
  {
   "cell_type": "code",
   "execution_count": 25,
   "id": "d2497f40-4c38-4ebe-a416-3dca2838ccbe",
   "metadata": {},
   "outputs": [
    {
     "name": "stdout",
     "output_type": "stream",
     "text": [
      "2\n"
     ]
    }
   ],
   "source": [
    "print(my.count(30))\n"
   ]
  },
  {
   "cell_type": "code",
   "execution_count": 27,
   "id": "e38a4b17-ac27-4bb8-963e-86ddd1271122",
   "metadata": {},
   "outputs": [
    {
     "name": "stdout",
     "output_type": "stream",
     "text": [
      "[10, 20, 30, 30, 40]\n"
     ]
    }
   ],
   "source": [
    "my.sort()\n",
    "print(my)"
   ]
  },
  {
   "cell_type": "code",
   "execution_count": 28,
   "id": "7c088b7b-dd39-480e-b196-be19fafcc277",
   "metadata": {},
   "outputs": [
    {
     "name": "stdout",
     "output_type": "stream",
     "text": [
      "[40, 30, 30, 20, 10]\n"
     ]
    }
   ],
   "source": [
    "my.sort(reverse=True)\n",
    "print(my)"
   ]
  },
  {
   "cell_type": "code",
   "execution_count": 29,
   "id": "1c8f91f0-7345-40db-aabb-6140c6b24c1b",
   "metadata": {},
   "outputs": [
    {
     "name": "stdout",
     "output_type": "stream",
     "text": [
      "['apple', 'banana', 'cherry', 'grapes', 'melon', 'orange', 'watermelon']\n"
     ]
    }
   ],
   "source": [
    "fruits.sort()\n",
    "print(fruits)"
   ]
  },
  {
   "cell_type": "code",
   "execution_count": 31,
   "id": "a726af38-7cee-436a-9edd-5dac6fd6d3cd",
   "metadata": {},
   "outputs": [
    {
     "name": "stdout",
     "output_type": "stream",
     "text": [
      "['watermelon', 'orange', 'melon', 'grapes', 'cherry', 'banana', 'apple']\n"
     ]
    }
   ],
   "source": [
    "fruits.sort(reverse=True)\n",
    "print(fruits)"
   ]
  },
  {
   "cell_type": "code",
   "execution_count": 32,
   "id": "d9dd8b38-fae0-468c-99b5-a0b9da9f0b80",
   "metadata": {},
   "outputs": [
    {
     "name": "stdout",
     "output_type": "stream",
     "text": [
      "5\n",
      "7\n"
     ]
    }
   ],
   "source": [
    "print(len(my))\n",
    "print(len(fruits))"
   ]
  },
  {
   "cell_type": "code",
   "execution_count": 33,
   "id": "4d1fd035-ad04-4efc-9f43-5ddad2b0e602",
   "metadata": {},
   "outputs": [
    {
     "name": "stdout",
     "output_type": "stream",
     "text": [
      "[40, 30, 20, 10]\n"
     ]
    }
   ],
   "source": [
    "my.remove(30)\n",
    "print(my)"
   ]
  },
  {
   "cell_type": "code",
   "execution_count": 34,
   "id": "59f59821-3da9-4a0b-8078-c1d5a01c1c81",
   "metadata": {},
   "outputs": [
    {
     "name": "stdout",
     "output_type": "stream",
     "text": [
      "[40, 30, 10]\n"
     ]
    }
   ],
   "source": [
    "my.pop(2)\n",
    "print(my)"
   ]
  },
  {
   "cell_type": "code",
   "execution_count": 35,
   "id": "5c2c52d3-6dc6-49f9-8aa9-e51c29f8a857",
   "metadata": {},
   "outputs": [
    {
     "name": "stdout",
     "output_type": "stream",
     "text": [
      "[]\n"
     ]
    }
   ],
   "source": [
    "my.clear()\n",
    "print(my)"
   ]
  },
  {
   "cell_type": "code",
   "execution_count": 36,
   "id": "8b685eb0-dbff-4ef1-853a-0731a3583d61",
   "metadata": {},
   "outputs": [
    {
     "name": "stdout",
     "output_type": "stream",
     "text": [
      "['watermelon', 'orange', 'melon', 'cherry', 'banana', 'apple']\n"
     ]
    }
   ],
   "source": [
    "del fruits[3]\n",
    "print(fruits)"
   ]
  },
  {
   "cell_type": "code",
   "execution_count": 37,
   "id": "bef15aeb-f5cb-4eba-844e-09bf3e7a649e",
   "metadata": {},
   "outputs": [],
   "source": [
    "del my"
   ]
  },
  {
   "cell_type": "code",
   "execution_count": 44,
   "id": "b84cab59-3aee-4202-a1a2-7bfc449ddc1f",
   "metadata": {},
   "outputs": [],
   "source": [
    "#TUPLES"
   ]
  },
  {
   "cell_type": "code",
   "execution_count": 47,
   "id": "3d7670ea-9778-49d5-99c2-d39affab1b6b",
   "metadata": {},
   "outputs": [
    {
     "name": "stdout",
     "output_type": "stream",
     "text": [
      "3\n"
     ]
    }
   ],
   "source": [
    "fruit=(\"apples\",'orange','banana')\n",
    "print(len(fruit))"
   ]
  },
  {
   "cell_type": "code",
   "execution_count": 48,
   "id": "e40fa4ce-b3a3-4616-bef1-b8c77520be49",
   "metadata": {},
   "outputs": [
    {
     "name": "stdout",
     "output_type": "stream",
     "text": [
      "<class 'tuple'>\n"
     ]
    }
   ],
   "source": [
    "print(type(fruit))"
   ]
  },
  {
   "cell_type": "code",
   "execution_count": 49,
   "id": "0c5f4e34-f6e3-43c1-bd9d-8ad5f756093c",
   "metadata": {},
   "outputs": [
    {
     "name": "stdout",
     "output_type": "stream",
     "text": [
      "banana\n"
     ]
    }
   ],
   "source": [
    "print(fruit[2])"
   ]
  },
  {
   "cell_type": "code",
   "execution_count": 51,
   "id": "2852a900-4727-41c7-92d6-c995c54cede0",
   "metadata": {},
   "outputs": [
    {
     "name": "stdout",
     "output_type": "stream",
     "text": [
      "('apples', 'orange', 'banana')\n"
     ]
    }
   ],
   "source": [
    "print(fruit[0:])"
   ]
  },
  {
   "cell_type": "code",
   "execution_count": 53,
   "id": "47600717-99f4-4319-8038-84f4a2932e24",
   "metadata": {},
   "outputs": [
    {
     "name": "stdout",
     "output_type": "stream",
     "text": [
      "('apples', 'watermelon', 'banana', 'kiwi')\n"
     ]
    }
   ],
   "source": [
    "y=list(fruit)\n",
    "y[1]=\"watermelon\"\n",
    "y.append(\"kiwi\")\n",
    "fruit=tuple(y)\n",
    "print(fruit)"
   ]
  },
  {
   "cell_type": "code",
   "execution_count": 57,
   "id": "6a63f56e-cbb5-439e-8880-a962788307a2",
   "metadata": {},
   "outputs": [
    {
     "name": "stdout",
     "output_type": "stream",
     "text": [
      "apples\n",
      "banana\n"
     ]
    }
   ],
   "source": [
    "(green,yello,pink,brown)=fruit\n",
    "print(green)\n",
    "print(pink)"
   ]
  },
  {
   "cell_type": "code",
   "execution_count": 59,
   "id": "a9cc9b83-9162-4880-8525-45a725ced8a2",
   "metadata": {},
   "outputs": [
    {
     "name": "stdout",
     "output_type": "stream",
     "text": [
      "1\n"
     ]
    }
   ],
   "source": [
    "print(fruit.count(\"apples\"))"
   ]
  },
  {
   "cell_type": "code",
   "execution_count": 60,
   "id": "dd145357-8984-4464-bac7-e7ba988c0330",
   "metadata": {},
   "outputs": [
    {
     "name": "stdout",
     "output_type": "stream",
     "text": [
      "2\n"
     ]
    }
   ],
   "source": [
    "print(fruit.index(\"banana\"))"
   ]
  },
  {
   "cell_type": "code",
   "execution_count": 61,
   "id": "c090427c-6121-4982-b649-33788c9477be",
   "metadata": {},
   "outputs": [
    {
     "name": "stdout",
     "output_type": "stream",
     "text": [
      "6\n"
     ]
    }
   ],
   "source": [
    "num=(1,2,2,4,2,6)\n",
    "print(max(num))"
   ]
  },
  {
   "cell_type": "code",
   "execution_count": 62,
   "id": "09047627-9248-4c7a-ab09-93e7e08a4e19",
   "metadata": {},
   "outputs": [
    {
     "name": "stdout",
     "output_type": "stream",
     "text": [
      "1\n"
     ]
    }
   ],
   "source": [
    "print(min(num))\n"
   ]
  },
  {
   "cell_type": "code",
   "execution_count": 63,
   "id": "d293cf13-4b67-428b-abd5-4013200543f1",
   "metadata": {},
   "outputs": [
    {
     "name": "stdout",
     "output_type": "stream",
     "text": [
      "17\n"
     ]
    }
   ],
   "source": [
    "print(sum(num))"
   ]
  },
  {
   "cell_type": "code",
   "execution_count": 64,
   "id": "d8048c99-b78b-4d63-b11e-9b49de86d548",
   "metadata": {},
   "outputs": [
    {
     "name": "stdout",
     "output_type": "stream",
     "text": [
      "[1, 2, 2, 2, 4, 6]\n"
     ]
    }
   ],
   "source": [
    "print(sorted(num))"
   ]
  },
  {
   "cell_type": "code",
   "execution_count": null,
   "id": "c420bcc6-d57e-4c4a-b901-bacec3f85d32",
   "metadata": {},
   "outputs": [],
   "source": [
    "#SETS"
   ]
  },
  {
   "cell_type": "code",
   "execution_count": 68,
   "id": "3bc1619c-26c5-4ce4-9c0a-de1785b19f3c",
   "metadata": {},
   "outputs": [
    {
     "name": "stdout",
     "output_type": "stream",
     "text": [
      "banana\n",
      "apple\n",
      "cherry\n"
     ]
    }
   ],
   "source": [
    "Fruits={'apple','banana','cherry'}\n",
    "for x in Fruits:\n",
    "    print(x)\n"
   ]
  },
  {
   "cell_type": "code",
   "execution_count": 8,
   "id": "d044017a-190e-4d6b-bcab-c5aec748ac3a",
   "metadata": {},
   "outputs": [
    {
     "name": "stdout",
     "output_type": "stream",
     "text": [
      "{'banana', 'apple', 'cherry', 'Melon'}\n",
      "{'apple', 'cherry', 'Melon'}\n",
      "{'apple', 'cherry', 'Melon'}\n",
      "{'cherry', 'Melon'}\n",
      "set()\n"
     ]
    }
   ],
   "source": [
    "Fruits={'apple','banana','cherry'}\n",
    "Fruits.add(\"Melon\")\n",
    "print(Fruits)\n",
    "Fruits.remove('banana')\n",
    "print(Fruits)\n",
    "Fruits.discard('grapes')\n",
    "print(Fruits)\n",
    "Fruits.pop()\n",
    "print(Fruits)\n",
    "Fruits.clear()\n",
    "print(Fruits)"
   ]
  },
  {
   "cell_type": "code",
   "execution_count": 15,
   "id": "49456c08-db6e-4b67-aa9a-4f58ad488348",
   "metadata": {},
   "outputs": [
    {
     "name": "stdout",
     "output_type": "stream",
     "text": [
      "{1, 2, 3, 4, 5}\n",
      "{3}\n",
      "{1, 2}\n",
      "{1, 2, 4, 5}\n",
      "{1, 2, 3, 4, 5}\n"
     ]
    }
   ],
   "source": [
    "a={1,2,3}\n",
    "b={3,4,5}\n",
    "c=a.union(b)\n",
    "print(c)\n",
    "c=a.intersection(b)\n",
    "print(c)\n",
    "d=a.difference(b)\n",
    "print(d)\n",
    "e=a.symmetric_difference(b)\n",
    "print(e)\n",
    "a.update(b)\n",
    "print(a)"
   ]
  },
  {
   "cell_type": "code",
   "execution_count": 19,
   "id": "1308b94d-9bd7-4b16-8631-b55fe0dd0e22",
   "metadata": {},
   "outputs": [
    {
     "data": {
      "text/plain": [
       "True"
      ]
     },
     "execution_count": 19,
     "metadata": {},
     "output_type": "execute_result"
    }
   ],
   "source": [
    "a={1,2}\n",
    "b={1,2,3}\n",
    "a.issubset(b)\n",
    "b.issuperset(a)"
   ]
  },
  {
   "cell_type": "code",
   "execution_count": 21,
   "id": "3b251cee-3063-46ea-b2b0-060905e7c602",
   "metadata": {},
   "outputs": [
    {
     "name": "stdout",
     "output_type": "stream",
     "text": [
      "True\n"
     ]
    }
   ],
   "source": [
    "a={1,2,3}\n",
    "b={4,5,6}\n",
    "print(a.isdisjoint(b))"
   ]
  },
  {
   "cell_type": "code",
   "execution_count": 23,
   "id": "844940d0-9aaa-4f8e-b0c4-17a2bcdd08ec",
   "metadata": {},
   "outputs": [
    {
     "name": "stdout",
     "output_type": "stream",
     "text": [
      "{1, 2, 3}\n",
      "{1, 2, 3}\n"
     ]
    }
   ],
   "source": [
    "s={1,2,3}\n",
    "new_set=s.copy()\n",
    "print(s)\n",
    "print(new_set)"
   ]
  },
  {
   "cell_type": "code",
   "execution_count": 24,
   "id": "c68f8ba5-6716-4a1b-b218-49ea9b7d30d5",
   "metadata": {},
   "outputs": [],
   "source": [
    "#FROZENSET"
   ]
  },
  {
   "cell_type": "code",
   "execution_count": null,
   "id": "5c504609-f4d9-44de-9b5d-b90b318d44b6",
   "metadata": {},
   "outputs": [],
   "source": []
  }
 ],
 "metadata": {
  "kernelspec": {
   "display_name": "Python 3 (ipykernel)",
   "language": "python",
   "name": "python3"
  },
  "language_info": {
   "codemirror_mode": {
    "name": "ipython",
    "version": 3
   },
   "file_extension": ".py",
   "mimetype": "text/x-python",
   "name": "python",
   "nbconvert_exporter": "python",
   "pygments_lexer": "ipython3",
   "version": "3.13.0"
  }
 },
 "nbformat": 4,
 "nbformat_minor": 5
}
